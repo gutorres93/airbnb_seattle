{
  "nbformat": 4,
  "nbformat_minor": 0,
  "metadata": {
    "colab": {
      "name": "Project 1",
      "provenance": []
    },
    "kernelspec": {
      "name": "python3",
      "display_name": "Python 3"
    },
    "language_info": {
      "name": "python"
    }
  },
  "cells": [
    {
      "cell_type": "code",
      "execution_count": null,
      "metadata": {
        "id": "56henLtL5gNg"
      },
      "outputs": [],
      "source": [
        "import pandas as pd\n",
        "import numpy as np\n",
        "import seaborn as sns\n",
        "import matplotlib.pyplot as plt\n",
        "from sklearn.linear_model import LinearRegression\n",
        "from sklearn.model_selection import train_test_split\n",
        "from sklearn.metrics import r2_score, mean_squared_error"
      ]
    },
    {
      "cell_type": "markdown",
      "source": [
        "# **Business understanding**"
      ],
      "metadata": {
        "id": "04ild1z-XZW2"
      }
    },
    {
      "cell_type": "markdown",
      "source": [
        "Airbnb is a great option to get an income from your home but it necessary to understand this market with the use of data before you decide to rent your home. For that reason this project analyzes an Airbnb dataset from Seattle to answer the following questions: i) How are the prices of Airbnb rentals in Seattle?; ii) Which variables correlate with the price of the rent?; iii) Can we predict the rent of your home?"
      ],
      "metadata": {
        "id": "prrrbZigX8bX"
      }
    },
    {
      "cell_type": "markdown",
      "source": [
        "#**Data Understanding**"
      ],
      "metadata": {
        "id": "L4ZSQuDNaano"
      }
    },
    {
      "cell_type": "code",
      "source": [
        "df = pd.read_csv('listings.csv')\n",
        "df"
      ],
      "metadata": {
        "id": "5SZ0c2kr7FZN",
        "colab": {
          "base_uri": "https://localhost:8080/",
          "height": 1000
        },
        "outputId": "b18ea81a-96d5-40e3-94b3-18c58443540e"
      },
      "execution_count": null,
      "outputs": [
        {
          "output_type": "execute_result",
          "data": {
            "text/plain": [
              "            id                            listing_url       scrape_id  \\\n",
              "0       241032    https://www.airbnb.com/rooms/241032  20160104002432   \n",
              "1       953595    https://www.airbnb.com/rooms/953595  20160104002432   \n",
              "2      3308979   https://www.airbnb.com/rooms/3308979  20160104002432   \n",
              "3      7421966   https://www.airbnb.com/rooms/7421966  20160104002432   \n",
              "4       278830    https://www.airbnb.com/rooms/278830  20160104002432   \n",
              "...        ...                                    ...             ...   \n",
              "3813   8101950   https://www.airbnb.com/rooms/8101950  20160104002432   \n",
              "3814   8902327   https://www.airbnb.com/rooms/8902327  20160104002432   \n",
              "3815  10267360  https://www.airbnb.com/rooms/10267360  20160104002432   \n",
              "3816   9604740   https://www.airbnb.com/rooms/9604740  20160104002432   \n",
              "3817  10208623  https://www.airbnb.com/rooms/10208623  20160104002432   \n",
              "\n",
              "     last_scraped                                 name  \\\n",
              "0      2016-01-04         Stylish Queen Anne Apartment   \n",
              "1      2016-01-04   Bright & Airy Queen Anne Apartment   \n",
              "2      2016-01-04  New Modern House-Amazing water view   \n",
              "3      2016-01-04                   Queen Anne Chateau   \n",
              "4      2016-01-04       Charming craftsman 3 bdm house   \n",
              "...           ...                                  ...   \n",
              "3813   2016-01-04   3BR Mountain View House in Seattle   \n",
              "3814   2016-01-04    Portage Bay View!-One Bedroom Apt   \n",
              "3815   2016-01-04    Private apartment view of Lake WA   \n",
              "3816   2016-01-04    Amazing View with Modern Comfort!   \n",
              "3817   2016-01-04            Large Lakefront Apartment   \n",
              "\n",
              "                                                summary  \\\n",
              "0                                                   NaN   \n",
              "1     Chemically sensitive? We've removed the irrita...   \n",
              "2     New modern house built in 2013.  Spectacular s...   \n",
              "3     A charming apartment that sits atop Queen Anne...   \n",
              "4     Cozy family craftman house in beautiful neighb...   \n",
              "...                                                 ...   \n",
              "3813  Our 3BR/2BA house boasts incredible views of t...   \n",
              "3814  800 square foot 1 bedroom basement apartment w...   \n",
              "3815  Very comfortable lower unit. Quiet, charming m...   \n",
              "3816  Cozy studio condo in the heart on Madison Park...   \n",
              "3817  All hardwood floors, fireplace, 65\" TV with Xb...   \n",
              "\n",
              "                                                  space  \\\n",
              "0     Make your self at home in this charming one-be...   \n",
              "1     Beautiful, hypoallergenic apartment in an extr...   \n",
              "2     Our house is modern, light and fresh with a wa...   \n",
              "3                                                   NaN   \n",
              "4     Cozy family craftman house in beautiful neighb...   \n",
              "...                                                 ...   \n",
              "3813  Our 3BR/2BA house bright, stylish, and wheelch...   \n",
              "3814  This space has a great view of Portage Bay wit...   \n",
              "3815                                                NaN   \n",
              "3816  Fully furnished unit to accommodate most needs...   \n",
              "3817                                                NaN   \n",
              "\n",
              "                                            description experiences_offered  \\\n",
              "0     Make your self at home in this charming one-be...                none   \n",
              "1     Chemically sensitive? We've removed the irrita...                none   \n",
              "2     New modern house built in 2013.  Spectacular s...                none   \n",
              "3     A charming apartment that sits atop Queen Anne...                none   \n",
              "4     Cozy family craftman house in beautiful neighb...                none   \n",
              "...                                                 ...                 ...   \n",
              "3813  Our 3BR/2BA house boasts incredible views of t...                none   \n",
              "3814  800 square foot 1 bedroom basement apartment w...                none   \n",
              "3815  Very comfortable lower unit. Quiet, charming m...                none   \n",
              "3816  Cozy studio condo in the heart on Madison Park...                none   \n",
              "3817  All hardwood floors, fireplace, 65\" TV with Xb...                none   \n",
              "\n",
              "                                  neighborhood_overview  ...  \\\n",
              "0                                                   NaN  ...   \n",
              "1     Queen Anne is a wonderful, truly functional vi...  ...   \n",
              "2     Upper Queen Anne is a charming neighborhood fu...  ...   \n",
              "3                                                   NaN  ...   \n",
              "4     We are in the beautiful neighborhood of Queen ...  ...   \n",
              "...                                                 ...  ...   \n",
              "3813  We're located near lots of family fun. Woodlan...  ...   \n",
              "3814  The neighborhood is a quiet oasis that is clos...  ...   \n",
              "3815                                                NaN  ...   \n",
              "3816  Madison Park offers a peaceful slow pace upsca...  ...   \n",
              "3817                                                NaN  ...   \n",
              "\n",
              "     review_scores_value requires_license license jurisdiction_names  \\\n",
              "0                   10.0                f     NaN         WASHINGTON   \n",
              "1                   10.0                f     NaN         WASHINGTON   \n",
              "2                   10.0                f     NaN         WASHINGTON   \n",
              "3                    NaN                f     NaN         WASHINGTON   \n",
              "4                    9.0                f     NaN         WASHINGTON   \n",
              "...                  ...              ...     ...                ...   \n",
              "3813                 8.0                f     NaN         WASHINGTON   \n",
              "3814                10.0                f     NaN         WASHINGTON   \n",
              "3815                 NaN                f     NaN         WASHINGTON   \n",
              "3816                 NaN                f     NaN         WASHINGTON   \n",
              "3817                 NaN                f     NaN         WASHINGTON   \n",
              "\n",
              "     instant_bookable cancellation_policy  require_guest_profile_picture  \\\n",
              "0                   f            moderate                              f   \n",
              "1                   f              strict                              t   \n",
              "2                   f              strict                              f   \n",
              "3                   f            flexible                              f   \n",
              "4                   f              strict                              f   \n",
              "...               ...                 ...                            ...   \n",
              "3813                f              strict                              f   \n",
              "3814                f            moderate                              f   \n",
              "3815                f            moderate                              f   \n",
              "3816                f            moderate                              f   \n",
              "3817                f            flexible                              f   \n",
              "\n",
              "     require_guest_phone_verification calculated_host_listings_count  \\\n",
              "0                                   f                              2   \n",
              "1                                   t                              6   \n",
              "2                                   f                              2   \n",
              "3                                   f                              1   \n",
              "4                                   f                              1   \n",
              "...                               ...                            ...   \n",
              "3813                                f                              8   \n",
              "3814                                f                              1   \n",
              "3815                                f                              1   \n",
              "3816                                f                              1   \n",
              "3817                                f                              1   \n",
              "\n",
              "     reviews_per_month  \n",
              "0                 4.07  \n",
              "1                 1.48  \n",
              "2                 1.15  \n",
              "3                  NaN  \n",
              "4                 0.89  \n",
              "...                ...  \n",
              "3813              0.30  \n",
              "3814              2.00  \n",
              "3815               NaN  \n",
              "3816               NaN  \n",
              "3817               NaN  \n",
              "\n",
              "[3818 rows x 92 columns]"
            ],
            "text/html": [
              "\n",
              "  <div id=\"df-08b0cb49-85f1-4a01-abb2-4148bf9080a7\">\n",
              "    <div class=\"colab-df-container\">\n",
              "      <div>\n",
              "<style scoped>\n",
              "    .dataframe tbody tr th:only-of-type {\n",
              "        vertical-align: middle;\n",
              "    }\n",
              "\n",
              "    .dataframe tbody tr th {\n",
              "        vertical-align: top;\n",
              "    }\n",
              "\n",
              "    .dataframe thead th {\n",
              "        text-align: right;\n",
              "    }\n",
              "</style>\n",
              "<table border=\"1\" class=\"dataframe\">\n",
              "  <thead>\n",
              "    <tr style=\"text-align: right;\">\n",
              "      <th></th>\n",
              "      <th>id</th>\n",
              "      <th>listing_url</th>\n",
              "      <th>scrape_id</th>\n",
              "      <th>last_scraped</th>\n",
              "      <th>name</th>\n",
              "      <th>summary</th>\n",
              "      <th>space</th>\n",
              "      <th>description</th>\n",
              "      <th>experiences_offered</th>\n",
              "      <th>neighborhood_overview</th>\n",
              "      <th>...</th>\n",
              "      <th>review_scores_value</th>\n",
              "      <th>requires_license</th>\n",
              "      <th>license</th>\n",
              "      <th>jurisdiction_names</th>\n",
              "      <th>instant_bookable</th>\n",
              "      <th>cancellation_policy</th>\n",
              "      <th>require_guest_profile_picture</th>\n",
              "      <th>require_guest_phone_verification</th>\n",
              "      <th>calculated_host_listings_count</th>\n",
              "      <th>reviews_per_month</th>\n",
              "    </tr>\n",
              "  </thead>\n",
              "  <tbody>\n",
              "    <tr>\n",
              "      <th>0</th>\n",
              "      <td>241032</td>\n",
              "      <td>https://www.airbnb.com/rooms/241032</td>\n",
              "      <td>20160104002432</td>\n",
              "      <td>2016-01-04</td>\n",
              "      <td>Stylish Queen Anne Apartment</td>\n",
              "      <td>NaN</td>\n",
              "      <td>Make your self at home in this charming one-be...</td>\n",
              "      <td>Make your self at home in this charming one-be...</td>\n",
              "      <td>none</td>\n",
              "      <td>NaN</td>\n",
              "      <td>...</td>\n",
              "      <td>10.0</td>\n",
              "      <td>f</td>\n",
              "      <td>NaN</td>\n",
              "      <td>WASHINGTON</td>\n",
              "      <td>f</td>\n",
              "      <td>moderate</td>\n",
              "      <td>f</td>\n",
              "      <td>f</td>\n",
              "      <td>2</td>\n",
              "      <td>4.07</td>\n",
              "    </tr>\n",
              "    <tr>\n",
              "      <th>1</th>\n",
              "      <td>953595</td>\n",
              "      <td>https://www.airbnb.com/rooms/953595</td>\n",
              "      <td>20160104002432</td>\n",
              "      <td>2016-01-04</td>\n",
              "      <td>Bright &amp; Airy Queen Anne Apartment</td>\n",
              "      <td>Chemically sensitive? We've removed the irrita...</td>\n",
              "      <td>Beautiful, hypoallergenic apartment in an extr...</td>\n",
              "      <td>Chemically sensitive? We've removed the irrita...</td>\n",
              "      <td>none</td>\n",
              "      <td>Queen Anne is a wonderful, truly functional vi...</td>\n",
              "      <td>...</td>\n",
              "      <td>10.0</td>\n",
              "      <td>f</td>\n",
              "      <td>NaN</td>\n",
              "      <td>WASHINGTON</td>\n",
              "      <td>f</td>\n",
              "      <td>strict</td>\n",
              "      <td>t</td>\n",
              "      <td>t</td>\n",
              "      <td>6</td>\n",
              "      <td>1.48</td>\n",
              "    </tr>\n",
              "    <tr>\n",
              "      <th>2</th>\n",
              "      <td>3308979</td>\n",
              "      <td>https://www.airbnb.com/rooms/3308979</td>\n",
              "      <td>20160104002432</td>\n",
              "      <td>2016-01-04</td>\n",
              "      <td>New Modern House-Amazing water view</td>\n",
              "      <td>New modern house built in 2013.  Spectacular s...</td>\n",
              "      <td>Our house is modern, light and fresh with a wa...</td>\n",
              "      <td>New modern house built in 2013.  Spectacular s...</td>\n",
              "      <td>none</td>\n",
              "      <td>Upper Queen Anne is a charming neighborhood fu...</td>\n",
              "      <td>...</td>\n",
              "      <td>10.0</td>\n",
              "      <td>f</td>\n",
              "      <td>NaN</td>\n",
              "      <td>WASHINGTON</td>\n",
              "      <td>f</td>\n",
              "      <td>strict</td>\n",
              "      <td>f</td>\n",
              "      <td>f</td>\n",
              "      <td>2</td>\n",
              "      <td>1.15</td>\n",
              "    </tr>\n",
              "    <tr>\n",
              "      <th>3</th>\n",
              "      <td>7421966</td>\n",
              "      <td>https://www.airbnb.com/rooms/7421966</td>\n",
              "      <td>20160104002432</td>\n",
              "      <td>2016-01-04</td>\n",
              "      <td>Queen Anne Chateau</td>\n",
              "      <td>A charming apartment that sits atop Queen Anne...</td>\n",
              "      <td>NaN</td>\n",
              "      <td>A charming apartment that sits atop Queen Anne...</td>\n",
              "      <td>none</td>\n",
              "      <td>NaN</td>\n",
              "      <td>...</td>\n",
              "      <td>NaN</td>\n",
              "      <td>f</td>\n",
              "      <td>NaN</td>\n",
              "      <td>WASHINGTON</td>\n",
              "      <td>f</td>\n",
              "      <td>flexible</td>\n",
              "      <td>f</td>\n",
              "      <td>f</td>\n",
              "      <td>1</td>\n",
              "      <td>NaN</td>\n",
              "    </tr>\n",
              "    <tr>\n",
              "      <th>4</th>\n",
              "      <td>278830</td>\n",
              "      <td>https://www.airbnb.com/rooms/278830</td>\n",
              "      <td>20160104002432</td>\n",
              "      <td>2016-01-04</td>\n",
              "      <td>Charming craftsman 3 bdm house</td>\n",
              "      <td>Cozy family craftman house in beautiful neighb...</td>\n",
              "      <td>Cozy family craftman house in beautiful neighb...</td>\n",
              "      <td>Cozy family craftman house in beautiful neighb...</td>\n",
              "      <td>none</td>\n",
              "      <td>We are in the beautiful neighborhood of Queen ...</td>\n",
              "      <td>...</td>\n",
              "      <td>9.0</td>\n",
              "      <td>f</td>\n",
              "      <td>NaN</td>\n",
              "      <td>WASHINGTON</td>\n",
              "      <td>f</td>\n",
              "      <td>strict</td>\n",
              "      <td>f</td>\n",
              "      <td>f</td>\n",
              "      <td>1</td>\n",
              "      <td>0.89</td>\n",
              "    </tr>\n",
              "    <tr>\n",
              "      <th>...</th>\n",
              "      <td>...</td>\n",
              "      <td>...</td>\n",
              "      <td>...</td>\n",
              "      <td>...</td>\n",
              "      <td>...</td>\n",
              "      <td>...</td>\n",
              "      <td>...</td>\n",
              "      <td>...</td>\n",
              "      <td>...</td>\n",
              "      <td>...</td>\n",
              "      <td>...</td>\n",
              "      <td>...</td>\n",
              "      <td>...</td>\n",
              "      <td>...</td>\n",
              "      <td>...</td>\n",
              "      <td>...</td>\n",
              "      <td>...</td>\n",
              "      <td>...</td>\n",
              "      <td>...</td>\n",
              "      <td>...</td>\n",
              "      <td>...</td>\n",
              "    </tr>\n",
              "    <tr>\n",
              "      <th>3813</th>\n",
              "      <td>8101950</td>\n",
              "      <td>https://www.airbnb.com/rooms/8101950</td>\n",
              "      <td>20160104002432</td>\n",
              "      <td>2016-01-04</td>\n",
              "      <td>3BR Mountain View House in Seattle</td>\n",
              "      <td>Our 3BR/2BA house boasts incredible views of t...</td>\n",
              "      <td>Our 3BR/2BA house bright, stylish, and wheelch...</td>\n",
              "      <td>Our 3BR/2BA house boasts incredible views of t...</td>\n",
              "      <td>none</td>\n",
              "      <td>We're located near lots of family fun. Woodlan...</td>\n",
              "      <td>...</td>\n",
              "      <td>8.0</td>\n",
              "      <td>f</td>\n",
              "      <td>NaN</td>\n",
              "      <td>WASHINGTON</td>\n",
              "      <td>f</td>\n",
              "      <td>strict</td>\n",
              "      <td>f</td>\n",
              "      <td>f</td>\n",
              "      <td>8</td>\n",
              "      <td>0.30</td>\n",
              "    </tr>\n",
              "    <tr>\n",
              "      <th>3814</th>\n",
              "      <td>8902327</td>\n",
              "      <td>https://www.airbnb.com/rooms/8902327</td>\n",
              "      <td>20160104002432</td>\n",
              "      <td>2016-01-04</td>\n",
              "      <td>Portage Bay View!-One Bedroom Apt</td>\n",
              "      <td>800 square foot 1 bedroom basement apartment w...</td>\n",
              "      <td>This space has a great view of Portage Bay wit...</td>\n",
              "      <td>800 square foot 1 bedroom basement apartment w...</td>\n",
              "      <td>none</td>\n",
              "      <td>The neighborhood is a quiet oasis that is clos...</td>\n",
              "      <td>...</td>\n",
              "      <td>10.0</td>\n",
              "      <td>f</td>\n",
              "      <td>NaN</td>\n",
              "      <td>WASHINGTON</td>\n",
              "      <td>f</td>\n",
              "      <td>moderate</td>\n",
              "      <td>f</td>\n",
              "      <td>f</td>\n",
              "      <td>1</td>\n",
              "      <td>2.00</td>\n",
              "    </tr>\n",
              "    <tr>\n",
              "      <th>3815</th>\n",
              "      <td>10267360</td>\n",
              "      <td>https://www.airbnb.com/rooms/10267360</td>\n",
              "      <td>20160104002432</td>\n",
              "      <td>2016-01-04</td>\n",
              "      <td>Private apartment view of Lake WA</td>\n",
              "      <td>Very comfortable lower unit. Quiet, charming m...</td>\n",
              "      <td>NaN</td>\n",
              "      <td>Very comfortable lower unit. Quiet, charming m...</td>\n",
              "      <td>none</td>\n",
              "      <td>NaN</td>\n",
              "      <td>...</td>\n",
              "      <td>NaN</td>\n",
              "      <td>f</td>\n",
              "      <td>NaN</td>\n",
              "      <td>WASHINGTON</td>\n",
              "      <td>f</td>\n",
              "      <td>moderate</td>\n",
              "      <td>f</td>\n",
              "      <td>f</td>\n",
              "      <td>1</td>\n",
              "      <td>NaN</td>\n",
              "    </tr>\n",
              "    <tr>\n",
              "      <th>3816</th>\n",
              "      <td>9604740</td>\n",
              "      <td>https://www.airbnb.com/rooms/9604740</td>\n",
              "      <td>20160104002432</td>\n",
              "      <td>2016-01-04</td>\n",
              "      <td>Amazing View with Modern Comfort!</td>\n",
              "      <td>Cozy studio condo in the heart on Madison Park...</td>\n",
              "      <td>Fully furnished unit to accommodate most needs...</td>\n",
              "      <td>Cozy studio condo in the heart on Madison Park...</td>\n",
              "      <td>none</td>\n",
              "      <td>Madison Park offers a peaceful slow pace upsca...</td>\n",
              "      <td>...</td>\n",
              "      <td>NaN</td>\n",
              "      <td>f</td>\n",
              "      <td>NaN</td>\n",
              "      <td>WASHINGTON</td>\n",
              "      <td>f</td>\n",
              "      <td>moderate</td>\n",
              "      <td>f</td>\n",
              "      <td>f</td>\n",
              "      <td>1</td>\n",
              "      <td>NaN</td>\n",
              "    </tr>\n",
              "    <tr>\n",
              "      <th>3817</th>\n",
              "      <td>10208623</td>\n",
              "      <td>https://www.airbnb.com/rooms/10208623</td>\n",
              "      <td>20160104002432</td>\n",
              "      <td>2016-01-04</td>\n",
              "      <td>Large Lakefront Apartment</td>\n",
              "      <td>All hardwood floors, fireplace, 65\" TV with Xb...</td>\n",
              "      <td>NaN</td>\n",
              "      <td>All hardwood floors, fireplace, 65\" TV with Xb...</td>\n",
              "      <td>none</td>\n",
              "      <td>NaN</td>\n",
              "      <td>...</td>\n",
              "      <td>NaN</td>\n",
              "      <td>f</td>\n",
              "      <td>NaN</td>\n",
              "      <td>WASHINGTON</td>\n",
              "      <td>f</td>\n",
              "      <td>flexible</td>\n",
              "      <td>f</td>\n",
              "      <td>f</td>\n",
              "      <td>1</td>\n",
              "      <td>NaN</td>\n",
              "    </tr>\n",
              "  </tbody>\n",
              "</table>\n",
              "<p>3818 rows × 92 columns</p>\n",
              "</div>\n",
              "      <button class=\"colab-df-convert\" onclick=\"convertToInteractive('df-08b0cb49-85f1-4a01-abb2-4148bf9080a7')\"\n",
              "              title=\"Convert this dataframe to an interactive table.\"\n",
              "              style=\"display:none;\">\n",
              "        \n",
              "  <svg xmlns=\"http://www.w3.org/2000/svg\" height=\"24px\"viewBox=\"0 0 24 24\"\n",
              "       width=\"24px\">\n",
              "    <path d=\"M0 0h24v24H0V0z\" fill=\"none\"/>\n",
              "    <path d=\"M18.56 5.44l.94 2.06.94-2.06 2.06-.94-2.06-.94-.94-2.06-.94 2.06-2.06.94zm-11 1L8.5 8.5l.94-2.06 2.06-.94-2.06-.94L8.5 2.5l-.94 2.06-2.06.94zm10 10l.94 2.06.94-2.06 2.06-.94-2.06-.94-.94-2.06-.94 2.06-2.06.94z\"/><path d=\"M17.41 7.96l-1.37-1.37c-.4-.4-.92-.59-1.43-.59-.52 0-1.04.2-1.43.59L10.3 9.45l-7.72 7.72c-.78.78-.78 2.05 0 2.83L4 21.41c.39.39.9.59 1.41.59.51 0 1.02-.2 1.41-.59l7.78-7.78 2.81-2.81c.8-.78.8-2.07 0-2.86zM5.41 20L4 18.59l7.72-7.72 1.47 1.35L5.41 20z\"/>\n",
              "  </svg>\n",
              "      </button>\n",
              "      \n",
              "  <style>\n",
              "    .colab-df-container {\n",
              "      display:flex;\n",
              "      flex-wrap:wrap;\n",
              "      gap: 12px;\n",
              "    }\n",
              "\n",
              "    .colab-df-convert {\n",
              "      background-color: #E8F0FE;\n",
              "      border: none;\n",
              "      border-radius: 50%;\n",
              "      cursor: pointer;\n",
              "      display: none;\n",
              "      fill: #1967D2;\n",
              "      height: 32px;\n",
              "      padding: 0 0 0 0;\n",
              "      width: 32px;\n",
              "    }\n",
              "\n",
              "    .colab-df-convert:hover {\n",
              "      background-color: #E2EBFA;\n",
              "      box-shadow: 0px 1px 2px rgba(60, 64, 67, 0.3), 0px 1px 3px 1px rgba(60, 64, 67, 0.15);\n",
              "      fill: #174EA6;\n",
              "    }\n",
              "\n",
              "    [theme=dark] .colab-df-convert {\n",
              "      background-color: #3B4455;\n",
              "      fill: #D2E3FC;\n",
              "    }\n",
              "\n",
              "    [theme=dark] .colab-df-convert:hover {\n",
              "      background-color: #434B5C;\n",
              "      box-shadow: 0px 1px 3px 1px rgba(0, 0, 0, 0.15);\n",
              "      filter: drop-shadow(0px 1px 2px rgba(0, 0, 0, 0.3));\n",
              "      fill: #FFFFFF;\n",
              "    }\n",
              "  </style>\n",
              "\n",
              "      <script>\n",
              "        const buttonEl =\n",
              "          document.querySelector('#df-08b0cb49-85f1-4a01-abb2-4148bf9080a7 button.colab-df-convert');\n",
              "        buttonEl.style.display =\n",
              "          google.colab.kernel.accessAllowed ? 'block' : 'none';\n",
              "\n",
              "        async function convertToInteractive(key) {\n",
              "          const element = document.querySelector('#df-08b0cb49-85f1-4a01-abb2-4148bf9080a7');\n",
              "          const dataTable =\n",
              "            await google.colab.kernel.invokeFunction('convertToInteractive',\n",
              "                                                     [key], {});\n",
              "          if (!dataTable) return;\n",
              "\n",
              "          const docLinkHtml = 'Like what you see? Visit the ' +\n",
              "            '<a target=\"_blank\" href=https://colab.research.google.com/notebooks/data_table.ipynb>data table notebook</a>'\n",
              "            + ' to learn more about interactive tables.';\n",
              "          element.innerHTML = '';\n",
              "          dataTable['output_type'] = 'display_data';\n",
              "          await google.colab.output.renderOutput(dataTable, element);\n",
              "          const docLink = document.createElement('div');\n",
              "          docLink.innerHTML = docLinkHtml;\n",
              "          element.appendChild(docLink);\n",
              "        }\n",
              "      </script>\n",
              "    </div>\n",
              "  </div>\n",
              "  "
            ]
          },
          "metadata": {},
          "execution_count": 2
        }
      ]
    },
    {
      "cell_type": "code",
      "source": [
        "df.columns"
      ],
      "metadata": {
        "colab": {
          "base_uri": "https://localhost:8080/"
        },
        "id": "IlGsc2RT2N0p",
        "outputId": "3d43cce7-ac8c-4414-c4b1-3f7a6c881643"
      },
      "execution_count": null,
      "outputs": [
        {
          "output_type": "execute_result",
          "data": {
            "text/plain": [
              "Index(['id', 'listing_url', 'scrape_id', 'last_scraped', 'name', 'summary',\n",
              "       'space', 'description', 'experiences_offered', 'neighborhood_overview',\n",
              "       'notes', 'transit', 'thumbnail_url', 'medium_url', 'picture_url',\n",
              "       'xl_picture_url', 'host_id', 'host_url', 'host_name', 'host_since',\n",
              "       'host_location', 'host_about', 'host_response_time',\n",
              "       'host_response_rate', 'host_acceptance_rate', 'host_is_superhost',\n",
              "       'host_thumbnail_url', 'host_picture_url', 'host_neighbourhood',\n",
              "       'host_listings_count', 'host_total_listings_count',\n",
              "       'host_verifications', 'host_has_profile_pic', 'host_identity_verified',\n",
              "       'street', 'neighbourhood', 'neighbourhood_cleansed',\n",
              "       'neighbourhood_group_cleansed', 'city', 'state', 'zipcode', 'market',\n",
              "       'smart_location', 'country_code', 'country', 'latitude', 'longitude',\n",
              "       'is_location_exact', 'property_type', 'room_type', 'accommodates',\n",
              "       'bathrooms', 'bedrooms', 'beds', 'bed_type', 'amenities', 'square_feet',\n",
              "       'price', 'weekly_price', 'monthly_price', 'security_deposit',\n",
              "       'cleaning_fee', 'guests_included', 'extra_people', 'minimum_nights',\n",
              "       'maximum_nights', 'calendar_updated', 'has_availability',\n",
              "       'availability_30', 'availability_60', 'availability_90',\n",
              "       'availability_365', 'calendar_last_scraped', 'number_of_reviews',\n",
              "       'first_review', 'last_review', 'review_scores_rating',\n",
              "       'review_scores_accuracy', 'review_scores_cleanliness',\n",
              "       'review_scores_checkin', 'review_scores_communication',\n",
              "       'review_scores_location', 'review_scores_value', 'requires_license',\n",
              "       'license', 'jurisdiction_names', 'instant_bookable',\n",
              "       'cancellation_policy', 'require_guest_profile_picture',\n",
              "       'require_guest_phone_verification', 'calculated_host_listings_count',\n",
              "       'reviews_per_month'],\n",
              "      dtype='object')"
            ]
          },
          "metadata": {},
          "execution_count": 3
        }
      ]
    },
    {
      "cell_type": "code",
      "source": [
        "df = df[['price', 'neighbourhood', 'accommodates', 'bathrooms', 'bedrooms', 'square_feet', 'host_is_superhost','number_of_reviews', 'review_scores_rating', 'reviews_per_month']]"
      ],
      "metadata": {
        "id": "lV8yPA7pjSr5"
      },
      "execution_count": null,
      "outputs": []
    },
    {
      "cell_type": "code",
      "source": [
        "df.dtypes"
      ],
      "metadata": {
        "colab": {
          "base_uri": "https://localhost:8080/"
        },
        "id": "65k943o4YTd-",
        "outputId": "77bb56c9-cc7e-4233-fa72-dc6bb64df454"
      },
      "execution_count": null,
      "outputs": [
        {
          "output_type": "execute_result",
          "data": {
            "text/plain": [
              "price                    object\n",
              "neighbourhood            object\n",
              "accommodates              int64\n",
              "bathrooms               float64\n",
              "bedrooms                float64\n",
              "square_feet             float64\n",
              "host_is_superhost        object\n",
              "number_of_reviews         int64\n",
              "review_scores_rating    float64\n",
              "reviews_per_month       float64\n",
              "dtype: object"
            ]
          },
          "metadata": {},
          "execution_count": 5
        }
      ]
    },
    {
      "cell_type": "code",
      "source": [
        "df.describe"
      ],
      "metadata": {
        "colab": {
          "base_uri": "https://localhost:8080/",
          "height": 164
        },
        "id": "VgchuZkXd8K1",
        "outputId": "0b08a8a4-f079-4bc5-b1b5-ae6fda1d3720"
      },
      "execution_count": null,
      "outputs": [
        {
          "output_type": "error",
          "ename": "NameError",
          "evalue": "ignored",
          "traceback": [
            "\u001b[0;31m---------------------------------------------------------------------------\u001b[0m",
            "\u001b[0;31mNameError\u001b[0m                                 Traceback (most recent call last)",
            "\u001b[0;32m<ipython-input-1-ad7f9ecfd38f>\u001b[0m in \u001b[0;36m<module>\u001b[0;34m()\u001b[0m\n\u001b[0;32m----> 1\u001b[0;31m \u001b[0mdf\u001b[0m\u001b[0;34m.\u001b[0m\u001b[0mdescribe\u001b[0m\u001b[0;34m\u001b[0m\u001b[0;34m\u001b[0m\u001b[0m\n\u001b[0m",
            "\u001b[0;31mNameError\u001b[0m: name 'df' is not defined"
          ]
        }
      ]
    },
    {
      "cell_type": "markdown",
      "source": [
        "#**Prepare Data**"
      ],
      "metadata": {
        "id": "3trxaMbqatR9"
      }
    },
    {
      "cell_type": "code",
      "source": [
        "df['price'] = df['price'].str.replace('$', '')\n",
        "df['price'] = df['price'].str.replace(',', '')\n",
        "df['price'] = df['price'].astype('float')"
      ],
      "metadata": {
        "id": "GbD-AeZEYTh8",
        "colab": {
          "base_uri": "https://localhost:8080/"
        },
        "outputId": "301bac0f-eb4b-467b-9305-ebdab96b8038"
      },
      "execution_count": null,
      "outputs": [
        {
          "output_type": "stream",
          "name": "stderr",
          "text": [
            "/usr/local/lib/python3.7/dist-packages/ipykernel_launcher.py:1: FutureWarning: The default value of regex will change from True to False in a future version. In addition, single character regular expressions will *not* be treated as literal strings when regex=True.\n",
            "  \"\"\"Entry point for launching an IPython kernel.\n",
            "/usr/local/lib/python3.7/dist-packages/ipykernel_launcher.py:1: SettingWithCopyWarning: \n",
            "A value is trying to be set on a copy of a slice from a DataFrame.\n",
            "Try using .loc[row_indexer,col_indexer] = value instead\n",
            "\n",
            "See the caveats in the documentation: https://pandas.pydata.org/pandas-docs/stable/user_guide/indexing.html#returning-a-view-versus-a-copy\n",
            "  \"\"\"Entry point for launching an IPython kernel.\n",
            "/usr/local/lib/python3.7/dist-packages/ipykernel_launcher.py:2: SettingWithCopyWarning: \n",
            "A value is trying to be set on a copy of a slice from a DataFrame.\n",
            "Try using .loc[row_indexer,col_indexer] = value instead\n",
            "\n",
            "See the caveats in the documentation: https://pandas.pydata.org/pandas-docs/stable/user_guide/indexing.html#returning-a-view-versus-a-copy\n",
            "  \n",
            "/usr/local/lib/python3.7/dist-packages/ipykernel_launcher.py:3: SettingWithCopyWarning: \n",
            "A value is trying to be set on a copy of a slice from a DataFrame.\n",
            "Try using .loc[row_indexer,col_indexer] = value instead\n",
            "\n",
            "See the caveats in the documentation: https://pandas.pydata.org/pandas-docs/stable/user_guide/indexing.html#returning-a-view-versus-a-copy\n",
            "  This is separate from the ipykernel package so we can avoid doing imports until\n"
          ]
        }
      ]
    },
    {
      "cell_type": "code",
      "source": [
        "df['host_is_superhost'] = np.where(df['host_is_superhost']=='t', 1, 0)"
      ],
      "metadata": {
        "id": "OZ61lGidxcIF",
        "colab": {
          "base_uri": "https://localhost:8080/"
        },
        "outputId": "2b464112-6c28-4cf5-bcfc-cd5071d3ee4a"
      },
      "execution_count": null,
      "outputs": [
        {
          "output_type": "stream",
          "name": "stderr",
          "text": [
            "/usr/local/lib/python3.7/dist-packages/ipykernel_launcher.py:1: SettingWithCopyWarning: \n",
            "A value is trying to be set on a copy of a slice from a DataFrame.\n",
            "Try using .loc[row_indexer,col_indexer] = value instead\n",
            "\n",
            "See the caveats in the documentation: https://pandas.pydata.org/pandas-docs/stable/user_guide/indexing.html#returning-a-view-versus-a-copy\n",
            "  \"\"\"Entry point for launching an IPython kernel.\n"
          ]
        }
      ]
    },
    {
      "cell_type": "code",
      "source": [
        "df.isnull().mean()"
      ],
      "metadata": {
        "colab": {
          "base_uri": "https://localhost:8080/"
        },
        "id": "dNWy42LbgVj6",
        "outputId": "1177aad9-18e2-4006-ed81-3fd6e88b89f9"
      },
      "execution_count": null,
      "outputs": [
        {
          "output_type": "execute_result",
          "data": {
            "text/plain": [
              "price                   0.000000\n",
              "neighbourhood           0.108958\n",
              "accommodates            0.000000\n",
              "bathrooms               0.004191\n",
              "bedrooms                0.001572\n",
              "square_feet             0.974594\n",
              "host_is_superhost       0.000000\n",
              "number_of_reviews       0.000000\n",
              "review_scores_rating    0.169460\n",
              "reviews_per_month       0.164222\n",
              "dtype: float64"
            ]
          },
          "metadata": {},
          "execution_count": 8
        }
      ]
    },
    {
      "cell_type": "markdown",
      "source": [
        "Since 97.45% of the variable 'square_feet' are missing values, I decided to drop all this column because it does not provide relevant information to answer our questions and it is difficult to impute all that values."
      ],
      "metadata": {
        "id": "4qpUJy8aeBAD"
      }
    },
    {
      "cell_type": "code",
      "source": [
        "df.drop('square_feet', axis=1, inplace=True)"
      ],
      "metadata": {
        "id": "7EglgUkD7_ls",
        "colab": {
          "base_uri": "https://localhost:8080/"
        },
        "outputId": "4d72d66a-ef14-4bdf-b0f6-45ceb594c2df"
      },
      "execution_count": null,
      "outputs": [
        {
          "output_type": "stream",
          "name": "stderr",
          "text": [
            "/usr/local/lib/python3.7/dist-packages/pandas/core/frame.py:4913: SettingWithCopyWarning: \n",
            "A value is trying to be set on a copy of a slice from a DataFrame\n",
            "\n",
            "See the caveats in the documentation: https://pandas.pydata.org/pandas-docs/stable/user_guide/indexing.html#returning-a-view-versus-a-copy\n",
            "  errors=errors,\n"
          ]
        }
      ]
    },
    {
      "cell_type": "markdown",
      "source": [
        "I decided to drop the rows with missing values in the 'neighborhood' column, since this variable can be useful to answer the questions. For the others columns with missing values I decided to impute it with the mean for each column."
      ],
      "metadata": {
        "id": "PET0WmfMeyjm"
      }
    },
    {
      "cell_type": "code",
      "source": [
        "df = df.fillna(df.mean())"
      ],
      "metadata": {
        "id": "__ffCoUmtidO",
        "colab": {
          "base_uri": "https://localhost:8080/"
        },
        "outputId": "9802efec-9ced-4832-a55c-a456e6855f8d"
      },
      "execution_count": null,
      "outputs": [
        {
          "output_type": "stream",
          "name": "stderr",
          "text": [
            "/usr/local/lib/python3.7/dist-packages/ipykernel_launcher.py:1: FutureWarning: Dropping of nuisance columns in DataFrame reductions (with 'numeric_only=None') is deprecated; in a future version this will raise TypeError.  Select only valid columns before calling the reduction.\n",
            "  \"\"\"Entry point for launching an IPython kernel.\n"
          ]
        }
      ]
    },
    {
      "cell_type": "code",
      "source": [
        "df = df.dropna(subset=['neighbourhood'])"
      ],
      "metadata": {
        "id": "vUgPyO3DTu8X"
      },
      "execution_count": null,
      "outputs": []
    },
    {
      "cell_type": "code",
      "source": [
        "df.isnull().mean()"
      ],
      "metadata": {
        "colab": {
          "base_uri": "https://localhost:8080/"
        },
        "id": "ouJgReCDgptk",
        "outputId": "3e478643-4452-44c9-9390-fe9bcb536335"
      },
      "execution_count": null,
      "outputs": [
        {
          "output_type": "execute_result",
          "data": {
            "text/plain": [
              "price                   0.0\n",
              "neighbourhood           0.0\n",
              "accommodates            0.0\n",
              "bathrooms               0.0\n",
              "bedrooms                0.0\n",
              "host_is_superhost       0.0\n",
              "number_of_reviews       0.0\n",
              "review_scores_rating    0.0\n",
              "reviews_per_month       0.0\n",
              "dtype: float64"
            ]
          },
          "metadata": {},
          "execution_count": 12
        }
      ]
    },
    {
      "cell_type": "markdown",
      "source": [
        "#**Data Modelling**"
      ],
      "metadata": {
        "id": "aR8OJMB2bFo7"
      }
    },
    {
      "cell_type": "markdown",
      "source": [
        "**Question #1**\n",
        "\n",
        "Which neighborhoods in Seattle have the highest prices and which ones the lowest?"
      ],
      "metadata": {
        "id": "gGvLsNNrqZ8Z"
      }
    },
    {
      "cell_type": "code",
      "source": [
        "df.price.describe()"
      ],
      "metadata": {
        "colab": {
          "base_uri": "https://localhost:8080/"
        },
        "id": "tFsClaBsXCqy",
        "outputId": "ac4dbcc9-6244-4f4f-84ea-c59ad9082b7a"
      },
      "execution_count": null,
      "outputs": [
        {
          "output_type": "execute_result",
          "data": {
            "text/plain": [
              "count    3402.000000\n",
              "mean      129.283363\n",
              "std        91.206505\n",
              "min        20.000000\n",
              "25%        75.000000\n",
              "50%       100.000000\n",
              "75%       150.000000\n",
              "max      1000.000000\n",
              "Name: price, dtype: float64"
            ]
          },
          "metadata": {},
          "execution_count": 13
        }
      ]
    },
    {
      "cell_type": "code",
      "source": [
        "# Number of neighbourhoods\n",
        "df.neighbourhood.drop_duplicates().count()"
      ],
      "metadata": {
        "colab": {
          "base_uri": "https://localhost:8080/"
        },
        "id": "uz0tkvE28fCj",
        "outputId": "e3febc73-948c-4e73-fc11-94ccca797860"
      },
      "execution_count": null,
      "outputs": [
        {
          "output_type": "execute_result",
          "data": {
            "text/plain": [
              "81"
            ]
          },
          "metadata": {},
          "execution_count": 14
        }
      ]
    },
    {
      "cell_type": "markdown",
      "source": [
        "Based on the sample the mean price of the rent is 129.28 in Seattle. The minimum rent is 20 and the maximum is 1000. In the graph below you can see the distribution of the prices of the Airbnbs in this city.\n",
        "\n"
      ],
      "metadata": {
        "id": "XBs7g-rigZEr"
      }
    },
    {
      "cell_type": "code",
      "source": [
        "# Prices distribution\n",
        "plt.hist(df.price, bins=20)\n",
        "plt.title('Seattle Airbnb prices distribution')\n",
        "plt.show()"
      ],
      "metadata": {
        "colab": {
          "base_uri": "https://localhost:8080/",
          "height": 281
        },
        "id": "TefsgvkDHSLf",
        "outputId": "0e1740bd-c7d4-4e8d-af83-fe1ac267819b"
      },
      "execution_count": null,
      "outputs": [
        {
          "output_type": "display_data",
          "data": {
            "text/plain": [
              "<Figure size 432x288 with 1 Axes>"
            ],
            "image/png": "[encoded data removed]"
          },
          "metadata": {
            "needs_background": "light"
          }
        }
      ]
    },
    {
      "cell_type": "code",
      "source": [
        "prices = pd.DataFrame(df.groupby('neighbourhood')['price'].mean())"
      ],
      "metadata": {
        "id": "R7JsJ5UL7_pJ"
      },
      "execution_count": null,
      "outputs": []
    },
    {
      "cell_type": "code",
      "source": [
        "# Neighborhoods with higher prices\n",
        "prices.sort_values('price', axis=0, ascending=False)[0:5]"
      ],
      "metadata": {
        "colab": {
          "base_uri": "https://localhost:8080/",
          "height": 235
        },
        "id": "9RM2bwjy7_sD",
        "outputId": "9b061737-e82c-4868-9e20-3d2e82a87e4e"
      },
      "execution_count": null,
      "outputs": [
        {
          "output_type": "execute_result",
          "data": {
            "text/plain": [
              "                          price\n",
              "neighbourhood                  \n",
              "Fairmount Park       370.000000\n",
              "Industrial District  245.000000\n",
              "Portage Bay          241.428571\n",
              "Westlake             197.000000\n",
              "Alki                 196.652174"
            ],
            "text/html": [
              "\n",
              "  <div id=\"df-0d326786-8681-424f-828d-0e8c111e8612\">\n",
              "    <div class=\"colab-df-container\">\n",
              "      <div>\n",
              "<style scoped>\n",
              "    .dataframe tbody tr th:only-of-type {\n",
              "        vertical-align: middle;\n",
              "    }\n",
              "\n",
              "    .dataframe tbody tr th {\n",
              "        vertical-align: top;\n",
              "    }\n",
              "\n",
              "    .dataframe thead th {\n",
              "        text-align: right;\n",
              "    }\n",
              "</style>\n",
              "<table border=\"1\" class=\"dataframe\">\n",
              "  <thead>\n",
              "    <tr style=\"text-align: right;\">\n",
              "      <th></th>\n",
              "      <th>price</th>\n",
              "    </tr>\n",
              "    <tr>\n",
              "      <th>neighbourhood</th>\n",
              "      <th></th>\n",
              "    </tr>\n",
              "  </thead>\n",
              "  <tbody>\n",
              "    <tr>\n",
              "      <th>Fairmount Park</th>\n",
              "      <td>370.000000</td>\n",
              "    </tr>\n",
              "    <tr>\n",
              "      <th>Industrial District</th>\n",
              "      <td>245.000000</td>\n",
              "    </tr>\n",
              "    <tr>\n",
              "      <th>Portage Bay</th>\n",
              "      <td>241.428571</td>\n",
              "    </tr>\n",
              "    <tr>\n",
              "      <th>Westlake</th>\n",
              "      <td>197.000000</td>\n",
              "    </tr>\n",
              "    <tr>\n",
              "      <th>Alki</th>\n",
              "      <td>196.652174</td>\n",
              "    </tr>\n",
              "  </tbody>\n",
              "</table>\n",
              "</div>\n",
              "      <button class=\"colab-df-convert\" onclick=\"convertToInteractive('df-0d326786-8681-424f-828d-0e8c111e8612')\"\n",
              "              title=\"Convert this dataframe to an interactive table.\"\n",
              "              style=\"display:none;\">\n",
              "        \n",
              "  <svg xmlns=\"http://www.w3.org/2000/svg\" height=\"24px\"viewBox=\"0 0 24 24\"\n",
              "       width=\"24px\">\n",
              "    <path d=\"M0 0h24v24H0V0z\" fill=\"none\"/>\n",
              "    <path d=\"M18.56 5.44l.94 2.06.94-2.06 2.06-.94-2.06-.94-.94-2.06-.94 2.06-2.06.94zm-11 1L8.5 8.5l.94-2.06 2.06-.94-2.06-.94L8.5 2.5l-.94 2.06-2.06.94zm10 10l.94 2.06.94-2.06 2.06-.94-2.06-.94-.94-2.06-.94 2.06-2.06.94z\"/><path d=\"M17.41 7.96l-1.37-1.37c-.4-.4-.92-.59-1.43-.59-.52 0-1.04.2-1.43.59L10.3 9.45l-7.72 7.72c-.78.78-.78 2.05 0 2.83L4 21.41c.39.39.9.59 1.41.59.51 0 1.02-.2 1.41-.59l7.78-7.78 2.81-2.81c.8-.78.8-2.07 0-2.86zM5.41 20L4 18.59l7.72-7.72 1.47 1.35L5.41 20z\"/>\n",
              "  </svg>\n",
              "      </button>\n",
              "      \n",
              "  <style>\n",
              "    .colab-df-container {\n",
              "      display:flex;\n",
              "      flex-wrap:wrap;\n",
              "      gap: 12px;\n",
              "    }\n",
              "\n",
              "    .colab-df-convert {\n",
              "      background-color: #E8F0FE;\n",
              "      border: none;\n",
              "      border-radius: 50%;\n",
              "      cursor: pointer;\n",
              "      display: none;\n",
              "      fill: #1967D2;\n",
              "      height: 32px;\n",
              "      padding: 0 0 0 0;\n",
              "      width: 32px;\n",
              "    }\n",
              "\n",
              "    .colab-df-convert:hover {\n",
              "      background-color: #E2EBFA;\n",
              "      box-shadow: 0px 1px 2px rgba(60, 64, 67, 0.3), 0px 1px 3px 1px rgba(60, 64, 67, 0.15);\n",
              "      fill: #174EA6;\n",
              "    }\n",
              "\n",
              "    [theme=dark] .colab-df-convert {\n",
              "      background-color: #3B4455;\n",
              "      fill: #D2E3FC;\n",
              "    }\n",
              "\n",
              "    [theme=dark] .colab-df-convert:hover {\n",
              "      background-color: #434B5C;\n",
              "      box-shadow: 0px 1px 3px 1px rgba(0, 0, 0, 0.15);\n",
              "      filter: drop-shadow(0px 1px 2px rgba(0, 0, 0, 0.3));\n",
              "      fill: #FFFFFF;\n",
              "    }\n",
              "  </style>\n",
              "\n",
              "      <script>\n",
              "        const buttonEl =\n",
              "          document.querySelector('#df-0d326786-8681-424f-828d-0e8c111e8612 button.colab-df-convert');\n",
              "        buttonEl.style.display =\n",
              "          google.colab.kernel.accessAllowed ? 'block' : 'none';\n",
              "\n",
              "        async function convertToInteractive(key) {\n",
              "          const element = document.querySelector('#df-0d326786-8681-424f-828d-0e8c111e8612');\n",
              "          const dataTable =\n",
              "            await google.colab.kernel.invokeFunction('convertToInteractive',\n",
              "                                                     [key], {});\n",
              "          if (!dataTable) return;\n",
              "\n",
              "          const docLinkHtml = 'Like what you see? Visit the ' +\n",
              "            '<a target=\"_blank\" href=https://colab.research.google.com/notebooks/data_table.ipynb>data table notebook</a>'\n",
              "            + ' to learn more about interactive tables.';\n",
              "          element.innerHTML = '';\n",
              "          dataTable['output_type'] = 'display_data';\n",
              "          await google.colab.output.renderOutput(dataTable, element);\n",
              "          const docLink = document.createElement('div');\n",
              "          docLink.innerHTML = docLinkHtml;\n",
              "          element.appendChild(docLink);\n",
              "        }\n",
              "      </script>\n",
              "    </div>\n",
              "  </div>\n",
              "  "
            ]
          },
          "metadata": {},
          "execution_count": 17
        }
      ]
    },
    {
      "cell_type": "code",
      "source": [
        "# Neighborhoods with lower prices\n",
        "prices.sort_values('price', axis=0, ascending=False)[-5:]"
      ],
      "metadata": {
        "colab": {
          "base_uri": "https://localhost:8080/",
          "height": 235
        },
        "id": "IWZNwQhNdujI",
        "outputId": "771cc19c-1182-408e-969d-8bb2622a9682"
      },
      "execution_count": null,
      "outputs": [
        {
          "output_type": "execute_result",
          "data": {
            "text/plain": [
              "                   price\n",
              "neighbourhood           \n",
              "Georgetown     77.000000\n",
              "Rainier Beach  76.722222\n",
              "Dunlap         75.461538\n",
              "Olympic Hills  63.666667\n",
              "Roxhill        60.000000"
            ],
            "text/html": [
              "\n",
              "  <div id=\"df-3bb7fe20-f7e5-454b-b010-e8eb6d8c279c\">\n",
              "    <div class=\"colab-df-container\">\n",
              "      <div>\n",
              "<style scoped>\n",
              "    .dataframe tbody tr th:only-of-type {\n",
              "        vertical-align: middle;\n",
              "    }\n",
              "\n",
              "    .dataframe tbody tr th {\n",
              "        vertical-align: top;\n",
              "    }\n",
              "\n",
              "    .dataframe thead th {\n",
              "        text-align: right;\n",
              "    }\n",
              "</style>\n",
              "<table border=\"1\" class=\"dataframe\">\n",
              "  <thead>\n",
              "    <tr style=\"text-align: right;\">\n",
              "      <th></th>\n",
              "      <th>price</th>\n",
              "    </tr>\n",
              "    <tr>\n",
              "      <th>neighbourhood</th>\n",
              "      <th></th>\n",
              "    </tr>\n",
              "  </thead>\n",
              "  <tbody>\n",
              "    <tr>\n",
              "      <th>Georgetown</th>\n",
              "      <td>77.000000</td>\n",
              "    </tr>\n",
              "    <tr>\n",
              "      <th>Rainier Beach</th>\n",
              "      <td>76.722222</td>\n",
              "    </tr>\n",
              "    <tr>\n",
              "      <th>Dunlap</th>\n",
              "      <td>75.461538</td>\n",
              "    </tr>\n",
              "    <tr>\n",
              "      <th>Olympic Hills</th>\n",
              "      <td>63.666667</td>\n",
              "    </tr>\n",
              "    <tr>\n",
              "      <th>Roxhill</th>\n",
              "      <td>60.000000</td>\n",
              "    </tr>\n",
              "  </tbody>\n",
              "</table>\n",
              "</div>\n",
              "      <button class=\"colab-df-convert\" onclick=\"convertToInteractive('df-3bb7fe20-f7e5-454b-b010-e8eb6d8c279c')\"\n",
              "              title=\"Convert this dataframe to an interactive table.\"\n",
              "              style=\"display:none;\">\n",
              "        \n",
              "  <svg xmlns=\"http://www.w3.org/2000/svg\" height=\"24px\"viewBox=\"0 0 24 24\"\n",
              "       width=\"24px\">\n",
              "    <path d=\"M0 0h24v24H0V0z\" fill=\"none\"/>\n",
              "    <path d=\"M18.56 5.44l.94 2.06.94-2.06 2.06-.94-2.06-.94-.94-2.06-.94 2.06-2.06.94zm-11 1L8.5 8.5l.94-2.06 2.06-.94-2.06-.94L8.5 2.5l-.94 2.06-2.06.94zm10 10l.94 2.06.94-2.06 2.06-.94-2.06-.94-.94-2.06-.94 2.06-2.06.94z\"/><path d=\"M17.41 7.96l-1.37-1.37c-.4-.4-.92-.59-1.43-.59-.52 0-1.04.2-1.43.59L10.3 9.45l-7.72 7.72c-.78.78-.78 2.05 0 2.83L4 21.41c.39.39.9.59 1.41.59.51 0 1.02-.2 1.41-.59l7.78-7.78 2.81-2.81c.8-.78.8-2.07 0-2.86zM5.41 20L4 18.59l7.72-7.72 1.47 1.35L5.41 20z\"/>\n",
              "  </svg>\n",
              "      </button>\n",
              "      \n",
              "  <style>\n",
              "    .colab-df-container {\n",
              "      display:flex;\n",
              "      flex-wrap:wrap;\n",
              "      gap: 12px;\n",
              "    }\n",
              "\n",
              "    .colab-df-convert {\n",
              "      background-color: #E8F0FE;\n",
              "      border: none;\n",
              "      border-radius: 50%;\n",
              "      cursor: pointer;\n",
              "      display: none;\n",
              "      fill: #1967D2;\n",
              "      height: 32px;\n",
              "      padding: 0 0 0 0;\n",
              "      width: 32px;\n",
              "    }\n",
              "\n",
              "    .colab-df-convert:hover {\n",
              "      background-color: #E2EBFA;\n",
              "      box-shadow: 0px 1px 2px rgba(60, 64, 67, 0.3), 0px 1px 3px 1px rgba(60, 64, 67, 0.15);\n",
              "      fill: #174EA6;\n",
              "    }\n",
              "\n",
              "    [theme=dark] .colab-df-convert {\n",
              "      background-color: #3B4455;\n",
              "      fill: #D2E3FC;\n",
              "    }\n",
              "\n",
              "    [theme=dark] .colab-df-convert:hover {\n",
              "      background-color: #434B5C;\n",
              "      box-shadow: 0px 1px 3px 1px rgba(0, 0, 0, 0.15);\n",
              "      filter: drop-shadow(0px 1px 2px rgba(0, 0, 0, 0.3));\n",
              "      fill: #FFFFFF;\n",
              "    }\n",
              "  </style>\n",
              "\n",
              "      <script>\n",
              "        const buttonEl =\n",
              "          document.querySelector('#df-3bb7fe20-f7e5-454b-b010-e8eb6d8c279c button.colab-df-convert');\n",
              "        buttonEl.style.display =\n",
              "          google.colab.kernel.accessAllowed ? 'block' : 'none';\n",
              "\n",
              "        async function convertToInteractive(key) {\n",
              "          const element = document.querySelector('#df-3bb7fe20-f7e5-454b-b010-e8eb6d8c279c');\n",
              "          const dataTable =\n",
              "            await google.colab.kernel.invokeFunction('convertToInteractive',\n",
              "                                                     [key], {});\n",
              "          if (!dataTable) return;\n",
              "\n",
              "          const docLinkHtml = 'Like what you see? Visit the ' +\n",
              "            '<a target=\"_blank\" href=https://colab.research.google.com/notebooks/data_table.ipynb>data table notebook</a>'\n",
              "            + ' to learn more about interactive tables.';\n",
              "          element.innerHTML = '';\n",
              "          dataTable['output_type'] = 'display_data';\n",
              "          await google.colab.output.renderOutput(dataTable, element);\n",
              "          const docLink = document.createElement('div');\n",
              "          docLink.innerHTML = docLinkHtml;\n",
              "          element.appendChild(docLink);\n",
              "        }\n",
              "      </script>\n",
              "    </div>\n",
              "  </div>\n",
              "  "
            ]
          },
          "metadata": {},
          "execution_count": 18
        }
      ]
    },
    {
      "cell_type": "markdown",
      "source": [
        "**Question #2**\n",
        "\n",
        "What are the relations between the select variables with the price of an Airbnb in Seattle?"
      ],
      "metadata": {
        "id": "xzWxLeQ9sA4U"
      }
    },
    {
      "cell_type": "code",
      "source": [
        "# Variables correlation\n",
        "f, a = plt.subplots(figsize=(10,10))\n",
        "sns.heatmap(df.corr(), annot=True, fmt=\".2f\")"
      ],
      "metadata": {
        "id": "M9iqsY3cnvEM",
        "colab": {
          "base_uri": "https://localhost:8080/",
          "height": 707
        },
        "outputId": "0468a951-0cd5-432b-940d-7397eff999d8"
      },
      "execution_count": null,
      "outputs": [
        {
          "output_type": "execute_result",
          "data": {
            "text/plain": [
              "<matplotlib.axes._subplots.AxesSubplot at 0x7fb095c408d0>"
            ]
          },
          "metadata": {},
          "execution_count": 19
        },
        {
          "output_type": "display_data",
          "data": {
            "text/plain": [
              "<Figure size 720x720 with 2 Axes>"
            ],
            "image/png": "[encoded data removed]"
          },
          "metadata": {
            "needs_background": "light"
          }
        }
      ]
    },
    {
      "cell_type": "markdown",
      "source": [
        "As you can see in the correlation matrix the variables with positive correlation with the prices are: accommodates, bathrooms and bedrooms. The variables with negative correlation are: number of reviews and reviews per month. Meanwhile the superhost and the review score ratings have near no correlation with the prices."
      ],
      "metadata": {
        "id": "1hHZ3rFTgHfW"
      }
    },
    {
      "cell_type": "markdown",
      "source": [
        "**Question #3**\n",
        "\n",
        "Which variables can be used to predict the rent of an Airbnb apartment in Seattle?"
      ],
      "metadata": {
        "id": "SGdK-t1xrldj"
      }
    },
    {
      "cell_type": "code",
      "source": [
        "# Creation of dummies variables\n",
        "cat_vars = df.select_dtypes(include=['object']).copy().columns\n",
        "for var in  cat_vars:\n",
        "  df = pd.concat([df.drop(var, axis=1), pd.get_dummies(df[var], prefix=var, prefix_sep='_', drop_first=True)], axis=1)\n",
        "    "
      ],
      "metadata": {
        "id": "0QYQNwErtGqn"
      },
      "execution_count": null,
      "outputs": []
    },
    {
      "cell_type": "code",
      "source": [
        "X = df.drop('price', axis=1)\n",
        "y = df['price'].copy()"
      ],
      "metadata": {
        "id": "3Sd8nuWwxHjF"
      },
      "execution_count": null,
      "outputs": []
    },
    {
      "cell_type": "code",
      "source": [
        "X_train, X_test, y_train, y_test = train_test_split(X, y, test_size = .30, random_state=42) "
      ],
      "metadata": {
        "id": "RppPH84C60Tr"
      },
      "execution_count": null,
      "outputs": []
    },
    {
      "cell_type": "code",
      "source": [
        "model = LinearRegression(normalize=True)\n",
        "model.fit(X_train, y_train)"
      ],
      "metadata": {
        "colab": {
          "base_uri": "https://localhost:8080/"
        },
        "id": "10twt2Oo7NBh",
        "outputId": "9935cc34-56e1-44bb-ed73-0009cc15b485"
      },
      "execution_count": null,
      "outputs": [
        {
          "output_type": "stream",
          "name": "stderr",
          "text": [
            "/usr/local/lib/python3.7/dist-packages/sklearn/linear_model/_base.py:145: FutureWarning: 'normalize' was deprecated in version 1.0 and will be removed in 1.2.\n",
            "If you wish to scale the data, use Pipeline with a StandardScaler in a preprocessing stage. To reproduce the previous behavior:\n",
            "\n",
            "from sklearn.pipeline import make_pipeline\n",
            "\n",
            "model = make_pipeline(StandardScaler(with_mean=False), LinearRegression())\n",
            "\n",
            "If you wish to pass a sample_weight parameter, you need to pass it as a fit parameter to each step of the pipeline as follows:\n",
            "\n",
            "kwargs = {s[0] + '__sample_weight': sample_weight for s in model.steps}\n",
            "model.fit(X, y, **kwargs)\n",
            "\n",
            "\n",
            "  FutureWarning,\n"
          ]
        },
        {
          "output_type": "execute_result",
          "data": {
            "text/plain": [
              "LinearRegression(normalize=True)"
            ]
          },
          "metadata": {},
          "execution_count": 23
        }
      ]
    },
    {
      "cell_type": "code",
      "source": [
        "y_test_preds = model.predict(X_test)\n",
        "y_train_preds = model.predict(X_train)"
      ],
      "metadata": {
        "id": "tO8QpS9BmzHb"
      },
      "execution_count": null,
      "outputs": []
    },
    {
      "cell_type": "markdown",
      "source": [
        "#**Evaluation**"
      ],
      "metadata": {
        "id": "qpoKNjkpbRyM"
      }
    },
    {
      "cell_type": "code",
      "source": [
        "test_score = r2_score(y_test, y_test_preds)\n",
        "train_score = r2_score(y_train, y_train_preds)"
      ],
      "metadata": {
        "id": "ZQv2ro_vm4he"
      },
      "execution_count": null,
      "outputs": []
    },
    {
      "cell_type": "markdown",
      "source": [
        "The R-squared in the train data was 0.533 and in the test data was 0.606, this represents that the model explains the 60.6% of the variability of the price in the test data.\n",
        "\n"
      ],
      "metadata": {
        "id": "tueHCYwpguo4"
      }
    },
    {
      "cell_type": "code",
      "source": [
        "train_score"
      ],
      "metadata": {
        "colab": {
          "base_uri": "https://localhost:8080/"
        },
        "id": "YsG33LWunCa0",
        "outputId": "a0728813-1799-434b-b670-faa6586d8a73"
      },
      "execution_count": null,
      "outputs": [
        {
          "output_type": "execute_result",
          "data": {
            "text/plain": [
              "0.5326512629156588"
            ]
          },
          "metadata": {},
          "execution_count": 26
        }
      ]
    },
    {
      "cell_type": "code",
      "source": [
        "test_score"
      ],
      "metadata": {
        "colab": {
          "base_uri": "https://localhost:8080/"
        },
        "id": "7xpZ1gQ9nAwt",
        "outputId": "60b18f7e-6940-4242-d418-28bd1335c9f6"
      },
      "execution_count": null,
      "outputs": [
        {
          "output_type": "execute_result",
          "data": {
            "text/plain": [
              "0.606309141109618"
            ]
          },
          "metadata": {},
          "execution_count": 27
        }
      ]
    },
    {
      "cell_type": "markdown",
      "source": [
        "Another aspect that must be interpreted are the coefficients of the linear regression. Since the variables were normalize, it is possible to measure the impact of the variable in the price. The chart below shows the 20 variables with the greater coefficient of the model. As you can see the neighborhood seems to be one the most important indicator for the price of the Airbnbs in Seattle.\n",
        "\n"
      ],
      "metadata": {
        "id": "LO-jZeWLg4e-"
      }
    },
    {
      "cell_type": "code",
      "source": [
        "def coef_weights(coefficients, X_train):\n",
        "    '''\n",
        "    INPUT:\n",
        "    coefficients - the coefficients of the linear model \n",
        "    X_train - the training data, so the column names can be used\n",
        "    OUTPUT:\n",
        "    coefs_df - a dataframe holding the coefficient, estimate, and abs(estimate)\n",
        "    \n",
        "    Provides a dataframe that can be used to understand the most influential coefficients\n",
        "    in a linear model by providing the coefficient estimates along with the name of the \n",
        "    variable attached to the coefficient.\n",
        "    '''\n",
        "    coefs_df = pd.DataFrame()\n",
        "    coefs_df['est_int'] = X_train.columns\n",
        "    coefs_df['coefs'] = model.coef_\n",
        "    coefs_df['abs_coefs'] = np.abs(model.coef_)\n",
        "    coefs_df = coefs_df.sort_values('abs_coefs', ascending=False)\n",
        "    return coefs_df\n",
        "\n",
        "coef_df = coef_weights(model.coef_, X_train)\n",
        "coef_df.head(20)"
      ],
      "metadata": {
        "colab": {
          "base_uri": "https://localhost:8080/",
          "height": 669
        },
        "id": "-t_CxJu00Gk6",
        "outputId": "6c3e42c9-41a0-42cf-b991-2a0f54652d3e"
      },
      "execution_count": null,
      "outputs": [
        {
          "output_type": "execute_result",
          "data": {
            "text/plain": [
              "                              est_int       coefs   abs_coefs\n",
              "76           neighbourhood_South Park -110.650408  110.650408\n",
              "32          neighbourhood_Haller Lake  -88.911256   88.911256\n",
              "62            neighbourhood_Pinehurst  -83.345013   83.345013\n",
              "74       neighbourhood_South Delridge  -82.069029   82.069029\n",
              "66        neighbourhood_Rainier Beach  -80.454919   80.454919\n",
              "72          neighbourhood_Seward Park  -79.345964   79.345964\n",
              "17           neighbourhood_Cedar Park  -79.305792   79.305792\n",
              "20           neighbourhood_Crown Hill  -79.143742   79.143742\n",
              "36           neighbourhood_Holly Park  -73.959294   73.959294\n",
              "68            neighbourhood_Riverview  -73.164273   73.164273\n",
              "47           neighbourhood_Maple Leaf  -70.118434   70.118434\n",
              "31            neighbourhood_Greenwood  -69.584587   69.584587\n",
              "11          neighbourhood_Bitter Lake  -69.437214   69.437214\n",
              "42       neighbourhood_Licton Springs  -69.096742   69.096742\n",
              "13            neighbourhood_Broadview  -68.399622   68.399622\n",
              "37  neighbourhood_Industrial District   67.236750   67.236750\n",
              "60          neighbourhood_Pike Market  -66.225562   66.225562\n",
              "70              neighbourhood_Roxhill  -64.771687   64.771687\n",
              "21               neighbourhood_Dunlap  -63.345148   63.345148\n",
              "57       neighbourhood_North Delridge  -62.946229   62.946229"
            ],
            "text/html": [
              "\n",
              "  <div id=\"df-6e2a9136-e640-4819-94c8-289cc65a82cd\">\n",
              "    <div class=\"colab-df-container\">\n",
              "      <div>\n",
              "<style scoped>\n",
              "    .dataframe tbody tr th:only-of-type {\n",
              "        vertical-align: middle;\n",
              "    }\n",
              "\n",
              "    .dataframe tbody tr th {\n",
              "        vertical-align: top;\n",
              "    }\n",
              "\n",
              "    .dataframe thead th {\n",
              "        text-align: right;\n",
              "    }\n",
              "</style>\n",
              "<table border=\"1\" class=\"dataframe\">\n",
              "  <thead>\n",
              "    <tr style=\"text-align: right;\">\n",
              "      <th></th>\n",
              "      <th>est_int</th>\n",
              "      <th>coefs</th>\n",
              "      <th>abs_coefs</th>\n",
              "    </tr>\n",
              "  </thead>\n",
              "  <tbody>\n",
              "    <tr>\n",
              "      <th>76</th>\n",
              "      <td>neighbourhood_South Park</td>\n",
              "      <td>-110.650408</td>\n",
              "      <td>110.650408</td>\n",
              "    </tr>\n",
              "    <tr>\n",
              "      <th>32</th>\n",
              "      <td>neighbourhood_Haller Lake</td>\n",
              "      <td>-88.911256</td>\n",
              "      <td>88.911256</td>\n",
              "    </tr>\n",
              "    <tr>\n",
              "      <th>62</th>\n",
              "      <td>neighbourhood_Pinehurst</td>\n",
              "      <td>-83.345013</td>\n",
              "      <td>83.345013</td>\n",
              "    </tr>\n",
              "    <tr>\n",
              "      <th>74</th>\n",
              "      <td>neighbourhood_South Delridge</td>\n",
              "      <td>-82.069029</td>\n",
              "      <td>82.069029</td>\n",
              "    </tr>\n",
              "    <tr>\n",
              "      <th>66</th>\n",
              "      <td>neighbourhood_Rainier Beach</td>\n",
              "      <td>-80.454919</td>\n",
              "      <td>80.454919</td>\n",
              "    </tr>\n",
              "    <tr>\n",
              "      <th>72</th>\n",
              "      <td>neighbourhood_Seward Park</td>\n",
              "      <td>-79.345964</td>\n",
              "      <td>79.345964</td>\n",
              "    </tr>\n",
              "    <tr>\n",
              "      <th>17</th>\n",
              "      <td>neighbourhood_Cedar Park</td>\n",
              "      <td>-79.305792</td>\n",
              "      <td>79.305792</td>\n",
              "    </tr>\n",
              "    <tr>\n",
              "      <th>20</th>\n",
              "      <td>neighbourhood_Crown Hill</td>\n",
              "      <td>-79.143742</td>\n",
              "      <td>79.143742</td>\n",
              "    </tr>\n",
              "    <tr>\n",
              "      <th>36</th>\n",
              "      <td>neighbourhood_Holly Park</td>\n",
              "      <td>-73.959294</td>\n",
              "      <td>73.959294</td>\n",
              "    </tr>\n",
              "    <tr>\n",
              "      <th>68</th>\n",
              "      <td>neighbourhood_Riverview</td>\n",
              "      <td>-73.164273</td>\n",
              "      <td>73.164273</td>\n",
              "    </tr>\n",
              "    <tr>\n",
              "      <th>47</th>\n",
              "      <td>neighbourhood_Maple Leaf</td>\n",
              "      <td>-70.118434</td>\n",
              "      <td>70.118434</td>\n",
              "    </tr>\n",
              "    <tr>\n",
              "      <th>31</th>\n",
              "      <td>neighbourhood_Greenwood</td>\n",
              "      <td>-69.584587</td>\n",
              "      <td>69.584587</td>\n",
              "    </tr>\n",
              "    <tr>\n",
              "      <th>11</th>\n",
              "      <td>neighbourhood_Bitter Lake</td>\n",
              "      <td>-69.437214</td>\n",
              "      <td>69.437214</td>\n",
              "    </tr>\n",
              "    <tr>\n",
              "      <th>42</th>\n",
              "      <td>neighbourhood_Licton Springs</td>\n",
              "      <td>-69.096742</td>\n",
              "      <td>69.096742</td>\n",
              "    </tr>\n",
              "    <tr>\n",
              "      <th>13</th>\n",
              "      <td>neighbourhood_Broadview</td>\n",
              "      <td>-68.399622</td>\n",
              "      <td>68.399622</td>\n",
              "    </tr>\n",
              "    <tr>\n",
              "      <th>37</th>\n",
              "      <td>neighbourhood_Industrial District</td>\n",
              "      <td>67.236750</td>\n",
              "      <td>67.236750</td>\n",
              "    </tr>\n",
              "    <tr>\n",
              "      <th>60</th>\n",
              "      <td>neighbourhood_Pike Market</td>\n",
              "      <td>-66.225562</td>\n",
              "      <td>66.225562</td>\n",
              "    </tr>\n",
              "    <tr>\n",
              "      <th>70</th>\n",
              "      <td>neighbourhood_Roxhill</td>\n",
              "      <td>-64.771687</td>\n",
              "      <td>64.771687</td>\n",
              "    </tr>\n",
              "    <tr>\n",
              "      <th>21</th>\n",
              "      <td>neighbourhood_Dunlap</td>\n",
              "      <td>-63.345148</td>\n",
              "      <td>63.345148</td>\n",
              "    </tr>\n",
              "    <tr>\n",
              "      <th>57</th>\n",
              "      <td>neighbourhood_North Delridge</td>\n",
              "      <td>-62.946229</td>\n",
              "      <td>62.946229</td>\n",
              "    </tr>\n",
              "  </tbody>\n",
              "</table>\n",
              "</div>\n",
              "      <button class=\"colab-df-convert\" onclick=\"convertToInteractive('df-6e2a9136-e640-4819-94c8-289cc65a82cd')\"\n",
              "              title=\"Convert this dataframe to an interactive table.\"\n",
              "              style=\"display:none;\">\n",
              "        \n",
              "  <svg xmlns=\"http://www.w3.org/2000/svg\" height=\"24px\"viewBox=\"0 0 24 24\"\n",
              "       width=\"24px\">\n",
              "    <path d=\"M0 0h24v24H0V0z\" fill=\"none\"/>\n",
              "    <path d=\"M18.56 5.44l.94 2.06.94-2.06 2.06-.94-2.06-.94-.94-2.06-.94 2.06-2.06.94zm-11 1L8.5 8.5l.94-2.06 2.06-.94-2.06-.94L8.5 2.5l-.94 2.06-2.06.94zm10 10l.94 2.06.94-2.06 2.06-.94-2.06-.94-.94-2.06-.94 2.06-2.06.94z\"/><path d=\"M17.41 7.96l-1.37-1.37c-.4-.4-.92-.59-1.43-.59-.52 0-1.04.2-1.43.59L10.3 9.45l-7.72 7.72c-.78.78-.78 2.05 0 2.83L4 21.41c.39.39.9.59 1.41.59.51 0 1.02-.2 1.41-.59l7.78-7.78 2.81-2.81c.8-.78.8-2.07 0-2.86zM5.41 20L4 18.59l7.72-7.72 1.47 1.35L5.41 20z\"/>\n",
              "  </svg>\n",
              "      </button>\n",
              "      \n",
              "  <style>\n",
              "    .colab-df-container {\n",
              "      display:flex;\n",
              "      flex-wrap:wrap;\n",
              "      gap: 12px;\n",
              "    }\n",
              "\n",
              "    .colab-df-convert {\n",
              "      background-color: #E8F0FE;\n",
              "      border: none;\n",
              "      border-radius: 50%;\n",
              "      cursor: pointer;\n",
              "      display: none;\n",
              "      fill: #1967D2;\n",
              "      height: 32px;\n",
              "      padding: 0 0 0 0;\n",
              "      width: 32px;\n",
              "    }\n",
              "\n",
              "    .colab-df-convert:hover {\n",
              "      background-color: #E2EBFA;\n",
              "      box-shadow: 0px 1px 2px rgba(60, 64, 67, 0.3), 0px 1px 3px 1px rgba(60, 64, 67, 0.15);\n",
              "      fill: #174EA6;\n",
              "    }\n",
              "\n",
              "    [theme=dark] .colab-df-convert {\n",
              "      background-color: #3B4455;\n",
              "      fill: #D2E3FC;\n",
              "    }\n",
              "\n",
              "    [theme=dark] .colab-df-convert:hover {\n",
              "      background-color: #434B5C;\n",
              "      box-shadow: 0px 1px 3px 1px rgba(0, 0, 0, 0.15);\n",
              "      filter: drop-shadow(0px 1px 2px rgba(0, 0, 0, 0.3));\n",
              "      fill: #FFFFFF;\n",
              "    }\n",
              "  </style>\n",
              "\n",
              "      <script>\n",
              "        const buttonEl =\n",
              "          document.querySelector('#df-6e2a9136-e640-4819-94c8-289cc65a82cd button.colab-df-convert');\n",
              "        buttonEl.style.display =\n",
              "          google.colab.kernel.accessAllowed ? 'block' : 'none';\n",
              "\n",
              "        async function convertToInteractive(key) {\n",
              "          const element = document.querySelector('#df-6e2a9136-e640-4819-94c8-289cc65a82cd');\n",
              "          const dataTable =\n",
              "            await google.colab.kernel.invokeFunction('convertToInteractive',\n",
              "                                                     [key], {});\n",
              "          if (!dataTable) return;\n",
              "\n",
              "          const docLinkHtml = 'Like what you see? Visit the ' +\n",
              "            '<a target=\"_blank\" href=https://colab.research.google.com/notebooks/data_table.ipynb>data table notebook</a>'\n",
              "            + ' to learn more about interactive tables.';\n",
              "          element.innerHTML = '';\n",
              "          dataTable['output_type'] = 'display_data';\n",
              "          await google.colab.output.renderOutput(dataTable, element);\n",
              "          const docLink = document.createElement('div');\n",
              "          docLink.innerHTML = docLinkHtml;\n",
              "          element.appendChild(docLink);\n",
              "        }\n",
              "      </script>\n",
              "    </div>\n",
              "  </div>\n",
              "  "
            ]
          },
          "metadata": {},
          "execution_count": 28
        }
      ]
    }
  ]
}